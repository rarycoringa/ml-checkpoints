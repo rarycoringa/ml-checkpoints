{
 "cells": [
  {
   "cell_type": "code",
   "execution_count": null,
   "id": "b2cefada",
   "metadata": {},
   "outputs": [],
   "source": [
    "import pandas as pd\n",
    "\n",
    "from pathlib import Path\n",
    "\n",
    "from sklearn.decomposition import PCA\n",
    "from sklearn.preprocessing import StandardScaler"
   ]
  },
  {
   "cell_type": "code",
   "execution_count": null,
   "id": "f9d72ba8",
   "metadata": {},
   "outputs": [],
   "source": [
    "accuracies_file: Path = Path(\"../results/cnn_hog_accuracies.csv\").resolve()\n",
    "\n",
    "accuracies_df: pd.DataFrame = pd.read_csv(accuracies_file.as_posix())\n",
    "\n",
    "accuracies_df[\"Mean Accuracy\"] = accuracies_df[accuracies_df.columns[2:]].mean(axis=1)\n",
    "\n",
    "dataset_mean_series: pd.Series = accuracies_df.groupby(\"Datasets\")[\"Mean Accuracy\"].mean().sort_values(ascending=False)\n",
    "\n",
    "dataset_mean_series.head(6)"
   ]
  },
  {
   "cell_type": "code",
   "execution_count": null,
   "id": "c66a66c7",
   "metadata": {},
   "outputs": [],
   "source": [
    "for filename in dataset_mean_series.head(6).index:\n",
    "    file: Path = Path(f\"../outputs/{filename}\").resolve()\n",
    "\n",
    "    df: pd.DataFrame = pd.read_csv(file.as_posix())\n",
    "\n",
    "    features_df: pd.DataFrame = df.iloc[:, 3:]\n",
    "    metadata_df: pd.DataFrame = df.iloc[:, :3]\n",
    "    animal_series: pd.Series = df.animal\n",
    "\n",
    "    scaler: StandardScaler = StandardScaler()\n",
    "    scaled_features = scaler.fit_transform(features_df)\n",
    "\n",
    "    pca: PCA = PCA(n_components=10)\n",
    "    pca_features = pca.fit_transform(scaled_features)\n",
    "\n",
    "    pca_features_df: pd.DataFrame = pd.DataFrame(pca_features)\n",
    "    pca_features_df.rename(lambda x: f\"feature_{int(x) + 1}\", axis=\"columns\", inplace=True)\n",
    "\n",
    "    pca_df: pd.DataFrame = pd.concat([metadata_df, pca_features_df], axis=\"columns\")\n",
    "\n",
    "    output_file: Path = Path(f\"../outputs/pca_{filename}\").resolve()\n",
    "    output_file.parent.mkdir(parents=True, exist_ok=True)\n",
    "\n",
    "    df.to_csv(output_file.as_posix(), index=False)"
   ]
  }
 ],
 "metadata": {
  "kernelspec": {
   "display_name": ".venv",
   "language": "python",
   "name": "python3"
  },
  "language_info": {
   "codemirror_mode": {
    "name": "ipython",
    "version": 3
   },
   "file_extension": ".py",
   "mimetype": "text/x-python",
   "name": "python",
   "nbconvert_exporter": "python",
   "pygments_lexer": "ipython3",
   "version": "3.12.6"
  }
 },
 "nbformat": 4,
 "nbformat_minor": 5
}
