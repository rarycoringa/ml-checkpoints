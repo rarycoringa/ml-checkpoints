{
 "cells": [
  {
   "cell_type": "code",
   "execution_count": null,
   "id": "fd160f76",
   "metadata": {},
   "outputs": [],
   "source": [
    "import pandas as pd\n",
    "\n",
    "from pathlib import Path\n",
    "\n",
    "from sklearn.neighbors import KNeighborsClassifier\n",
    "from sklearn.model_selection import train_test_split\n",
    "from sklearn.metrics import accuracy_score"
   ]
  },
  {
   "cell_type": "code",
   "execution_count": null,
   "id": "283c2527",
   "metadata": {},
   "outputs": [],
   "source": [
    "files: Path = Path(f\"../outputs\").resolve()\n",
    "    \n",
    "accuracies_file_mapping: dict[str, list[float]] = dict()\n",
    "\n",
    "for file in files.iterdir():\n",
    "    df: pd.DataFrame = pd.read_csv(file.as_posix())\n",
    "    \n",
    "    features_df: pd.DataFrame = df.iloc[:, 3:]\n",
    "    metadata_df: pd.DataFrame = df.iloc[:, :3]\n",
    "    animal_series: pd.Series = df.animal\n",
    "\n",
    "    features_train_70, features_test_30, animal_train_70, animal_test_30 = train_test_split(\n",
    "        features_df,\n",
    "        animal_series,\n",
    "        test_size=0.3,\n",
    "        random_state=1,\n",
    "    )\n",
    "\n",
    "    k_list: list[int] = [k for k in range(1, 11)]\n",
    "\n",
    "    accuracies: list[float] = list()\n",
    "\n",
    "    for k in k_list:\n",
    "        knn: KNeighborsClassifier = KNeighborsClassifier(n_neighbors=k, metric=\"euclidean\")\n",
    "        knn.fit(features_train_70, animal_train_70)\n",
    "        \n",
    "        animal_prediction = knn.predict(features_test_30)\n",
    "\n",
    "        accuracy: float = accuracy_score(animal_test_30, animal_prediction)\n",
    "        accuracies.append(accuracy)\n",
    "    \n",
    "    accuracies_file_mapping[file.name] = accuracies\n"
   ]
  },
  {
   "cell_type": "code",
   "execution_count": null,
   "id": "c87f5f94",
   "metadata": {},
   "outputs": [],
   "source": [
    "sorted_mapping: dict[str, list[float]] = dict(\n",
    "    sorted(\n",
    "        accuracies_file_mapping.items()\n",
    "    )\n",
    ")\n",
    "\n",
    "for filename, accuracies in sorted_mapping.items():\n",
    "    \n",
    "    print(f\"Dataset: {filename}\")\n",
    "    print(\"Accuracies: \", end=\"\")\n",
    "    \n",
    "    for accuracy in accuracies:\n",
    "        print(f\"{accuracy:.2f}\", end=\" | \")\n",
    "    \n",
    "    print(\"\\n\")"
   ]
  }
 ],
 "metadata": {
  "kernelspec": {
   "display_name": ".venv",
   "language": "python",
   "name": "python3"
  },
  "language_info": {
   "codemirror_mode": {
    "name": "ipython",
    "version": 3
   },
   "file_extension": ".py",
   "mimetype": "text/x-python",
   "name": "python",
   "nbconvert_exporter": "python",
   "pygments_lexer": "ipython3",
   "version": "3.12.6"
  }
 },
 "nbformat": 4,
 "nbformat_minor": 5
}
