{
 "cells": [
  {
   "cell_type": "code",
   "execution_count": null,
   "id": "fd160f76",
   "metadata": {},
   "outputs": [],
   "source": [
    "import pandas as pd\n",
    "import numpy as np\n",
    "\n",
    "from pathlib import Path\n",
    "\n",
    "from sklearn.neighbors import KNeighborsClassifier\n",
    "from sklearn.model_selection import cross_val_score\n",
    "from sklearn.model_selection import KFold"
   ]
  },
  {
   "cell_type": "code",
   "execution_count": null,
   "id": "3e9b5308",
   "metadata": {},
   "outputs": [],
   "source": [
    "accuracies_file: Path = Path(\"../results/cnn_hog_accuracies.csv\").resolve()\n",
    "\n",
    "accuracies_df: pd.DataFrame = pd.read_csv(accuracies_file.as_posix())\n",
    "\n",
    "accuracies_df[\"Mean Accuracy\"] = accuracies_df[accuracies_df.columns[2:]].mean(axis=1)\n",
    "\n",
    "dataset_mean_series: pd.Series = accuracies_df.groupby(\"Datasets\")[\"Mean Accuracy\"].mean().sort_values(ascending=False)\n",
    "\n",
    "dataset_mean_series.head(6)"
   ]
  },
  {
   "cell_type": "code",
   "execution_count": null,
   "id": "283c2527",
   "metadata": {},
   "outputs": [],
   "source": [
    "accuracies_file_mapping: dict[str, list[float]] = dict()\n",
    "\n",
    "for filename in dataset_mean_series.head(6).index:\n",
    "    file: Path = Path(f\"../outputs/pca_{filename}\").resolve()\n",
    "    \n",
    "    df: pd.DataFrame = pd.read_csv(file.as_posix())\n",
    "    \n",
    "    features_df: pd.DataFrame = df.iloc[:, 3:]\n",
    "    metadata_df: pd.DataFrame = df.iloc[:, :3]\n",
    "    animal_series: pd.Series = df.animal\n",
    "\n",
    "    k_list: list[int] = [k for k in range(1, 11)]\n",
    "\n",
    "    accuracies: list[float] = list()\n",
    "\n",
    "    for k in k_list:\n",
    "        kfold: KFold = KFold(n_splits=10, random_state=1, shuffle=True)\n",
    "\n",
    "        knn: KNeighborsClassifier = KNeighborsClassifier(n_neighbors=k, metric=\"euclidean\")\n",
    "        \n",
    "        scores = cross_val_score(knn, features_df, animal_series, scoring=\"accuracy\", cv=kfold)\n",
    "        accuracy: float = np.mean(scores)\n",
    "        accuracies.append(accuracy)\n",
    "    \n",
    "    accuracies_file_mapping[file.name] = accuracies\n"
   ]
  },
  {
   "cell_type": "code",
   "execution_count": null,
   "id": "c87f5f94",
   "metadata": {},
   "outputs": [],
   "source": [
    "sorted_mapping: dict[str, list[float]] = dict(\n",
    "    sorted(\n",
    "        accuracies_file_mapping.items()\n",
    "    )\n",
    ")\n",
    "\n",
    "for filename, accuracies in sorted_mapping.items():\n",
    "    \n",
    "    print(f\"Dataset: {filename}\")\n",
    "    print(\"Accuracies: \", end=\"\")\n",
    "    \n",
    "    for accuracy in accuracies:\n",
    "        print(f\"{accuracy:.2f}\", end=\";\")\n",
    "    \n",
    "    print(\"\\n\")"
   ]
  }
 ],
 "metadata": {
  "kernelspec": {
   "display_name": ".venv",
   "language": "python",
   "name": "python3"
  },
  "language_info": {
   "codemirror_mode": {
    "name": "ipython",
    "version": 3
   },
   "file_extension": ".py",
   "mimetype": "text/x-python",
   "name": "python",
   "nbconvert_exporter": "python",
   "pygments_lexer": "ipython3",
   "version": "3.12.6"
  }
 },
 "nbformat": 4,
 "nbformat_minor": 5
}
